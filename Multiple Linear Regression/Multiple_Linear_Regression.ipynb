{
  "nbformat": 4,
  "nbformat_minor": 0,
  "metadata": {
    "colab": {
      "name": "Multiple_Linear_Regression.ipynb",
      "provenance": [],
      "collapsed_sections": []
    },
    "kernelspec": {
      "name": "python3",
      "display_name": "Python 3"
    }
  },
  "cells": [
    {
      "cell_type": "markdown",
      "metadata": {
        "id": "CazISR8X_HUG",
        "colab_type": "text"
      },
      "source": [
        "# Multiple Linear Regression"
      ]
    },
    {
      "cell_type": "markdown",
      "metadata": {
        "id": "pOyqYHTk_Q57",
        "colab_type": "text"
      },
      "source": [
        "## Importing the libraries"
      ]
    },
    {
      "cell_type": "code",
      "metadata": {
        "id": "MQylnD55uQ-U",
        "colab_type": "code",
        "colab": {}
      },
      "source": [
        "#importing the three required libraries\n",
        "import numpy as np\n",
        "import matplotlib.pyplot as plt\n",
        "import pandas as pd"
      ],
      "execution_count": 0,
      "outputs": []
    },
    {
      "cell_type": "markdown",
      "metadata": {
        "id": "vgC61-ah_WIz",
        "colab_type": "text"
      },
      "source": [
        "## Importing the dataset"
      ]
    },
    {
      "cell_type": "code",
      "metadata": {
        "id": "KoZu8VLmvGRO",
        "colab_type": "code",
        "outputId": "21684bf3-6e4c-418d-9161-35a29fbf38f7",
        "colab": {
          "base_uri": "https://localhost:8080/",
          "height": 884
        }
      },
      "source": [
        "#Reading the dataset\n",
        "dataset = pd.read_csv('50_Startups.csv')\n",
        "#extracting matrix of features and vector of dependent variable (profit)\n",
        "X = dataset.iloc[:, :-1] \n",
        "Y = dataset.iloc[:, -1]\n",
        "print(X)"
      ],
      "execution_count": 43,
      "outputs": [
        {
          "output_type": "stream",
          "text": [
            "    R&D Spend  Administration  Marketing Spend       State\n",
            "0   165349.20       136897.80        471784.10    New York\n",
            "1   162597.70       151377.59        443898.53  California\n",
            "2   153441.51       101145.55        407934.54     Florida\n",
            "3   144372.41       118671.85        383199.62    New York\n",
            "4   142107.34        91391.77        366168.42     Florida\n",
            "5   131876.90        99814.71        362861.36    New York\n",
            "6   134615.46       147198.87        127716.82  California\n",
            "7   130298.13       145530.06        323876.68     Florida\n",
            "8   120542.52       148718.95        311613.29    New York\n",
            "9   123334.88       108679.17        304981.62  California\n",
            "10  101913.08       110594.11        229160.95     Florida\n",
            "11  100671.96        91790.61        249744.55  California\n",
            "12   93863.75       127320.38        249839.44     Florida\n",
            "13   91992.39       135495.07        252664.93  California\n",
            "14  119943.24       156547.42        256512.92     Florida\n",
            "15  114523.61       122616.84        261776.23    New York\n",
            "16   78013.11       121597.55        264346.06  California\n",
            "17   94657.16       145077.58        282574.31    New York\n",
            "18   91749.16       114175.79        294919.57     Florida\n",
            "19   86419.70       153514.11             0.00    New York\n",
            "20   76253.86       113867.30        298664.47  California\n",
            "21   78389.47       153773.43        299737.29    New York\n",
            "22   73994.56       122782.75        303319.26     Florida\n",
            "23   67532.53       105751.03        304768.73     Florida\n",
            "24   77044.01        99281.34        140574.81    New York\n",
            "25   64664.71       139553.16        137962.62  California\n",
            "26   75328.87       144135.98        134050.07     Florida\n",
            "27   72107.60       127864.55        353183.81    New York\n",
            "28   66051.52       182645.56        118148.20     Florida\n",
            "29   65605.48       153032.06        107138.38    New York\n",
            "30   61994.48       115641.28         91131.24     Florida\n",
            "31   61136.38       152701.92         88218.23    New York\n",
            "32   63408.86       129219.61         46085.25  California\n",
            "33   55493.95       103057.49        214634.81     Florida\n",
            "34   46426.07       157693.92        210797.67  California\n",
            "35   46014.02        85047.44        205517.64    New York\n",
            "36   28663.76       127056.21        201126.82     Florida\n",
            "37   44069.95        51283.14        197029.42  California\n",
            "38   20229.59        65947.93        185265.10    New York\n",
            "39   38558.51        82982.09        174999.30  California\n",
            "40   28754.33       118546.05        172795.67  California\n",
            "41   27892.92        84710.77        164470.71     Florida\n",
            "42   23640.93        96189.63        148001.11  California\n",
            "43   15505.73       127382.30         35534.17    New York\n",
            "44   22177.74       154806.14         28334.72  California\n",
            "45    1000.23       124153.04          1903.93    New York\n",
            "46    1315.46       115816.21        297114.46     Florida\n",
            "47       0.00       135426.92             0.00  California\n",
            "48     542.05        51743.15             0.00    New York\n",
            "49       0.00       116983.80         45173.06  California\n"
          ],
          "name": "stdout"
        }
      ]
    },
    {
      "cell_type": "markdown",
      "metadata": {
        "id": "VadrvE7s_lS9",
        "colab_type": "text"
      },
      "source": [
        "## Encoding categorical data"
      ]
    },
    {
      "cell_type": "code",
      "metadata": {
        "id": "oChtqoMPvwcv",
        "colab_type": "code",
        "outputId": "9f8f22c0-5e5f-4faf-bec8-90a5547c9123",
        "colab": {
          "base_uri": "https://localhost:8080/",
          "height": 867
        }
      },
      "source": [
        "#The categorical data in the 'State' column needs to be split into three separate\n",
        "#columns (New York, California and Florida). Each country is encoded into\n",
        "#bits. For example, New York is represented by 001. [3] stands for column 3.\n",
        "\n",
        "from sklearn.compose import ColumnTransformer\n",
        "from sklearn.preprocessing import OneHotEncoder\n",
        "ct = ColumnTransformer(transformers=[('encoder', OneHotEncoder(), [3])], remainder = 'passthrough')\n",
        "X = np.array(ct.fit_transform(X))\n",
        "print(X)"
      ],
      "execution_count": 44,
      "outputs": [
        {
          "output_type": "stream",
          "text": [
            "[[0.00e+00 0.00e+00 1.00e+00 1.65e+05 1.37e+05 4.72e+05]\n",
            " [1.00e+00 0.00e+00 0.00e+00 1.63e+05 1.51e+05 4.44e+05]\n",
            " [0.00e+00 1.00e+00 0.00e+00 1.53e+05 1.01e+05 4.08e+05]\n",
            " [0.00e+00 0.00e+00 1.00e+00 1.44e+05 1.19e+05 3.83e+05]\n",
            " [0.00e+00 1.00e+00 0.00e+00 1.42e+05 9.14e+04 3.66e+05]\n",
            " [0.00e+00 0.00e+00 1.00e+00 1.32e+05 9.98e+04 3.63e+05]\n",
            " [1.00e+00 0.00e+00 0.00e+00 1.35e+05 1.47e+05 1.28e+05]\n",
            " [0.00e+00 1.00e+00 0.00e+00 1.30e+05 1.46e+05 3.24e+05]\n",
            " [0.00e+00 0.00e+00 1.00e+00 1.21e+05 1.49e+05 3.12e+05]\n",
            " [1.00e+00 0.00e+00 0.00e+00 1.23e+05 1.09e+05 3.05e+05]\n",
            " [0.00e+00 1.00e+00 0.00e+00 1.02e+05 1.11e+05 2.29e+05]\n",
            " [1.00e+00 0.00e+00 0.00e+00 1.01e+05 9.18e+04 2.50e+05]\n",
            " [0.00e+00 1.00e+00 0.00e+00 9.39e+04 1.27e+05 2.50e+05]\n",
            " [1.00e+00 0.00e+00 0.00e+00 9.20e+04 1.35e+05 2.53e+05]\n",
            " [0.00e+00 1.00e+00 0.00e+00 1.20e+05 1.57e+05 2.57e+05]\n",
            " [0.00e+00 0.00e+00 1.00e+00 1.15e+05 1.23e+05 2.62e+05]\n",
            " [1.00e+00 0.00e+00 0.00e+00 7.80e+04 1.22e+05 2.64e+05]\n",
            " [0.00e+00 0.00e+00 1.00e+00 9.47e+04 1.45e+05 2.83e+05]\n",
            " [0.00e+00 1.00e+00 0.00e+00 9.17e+04 1.14e+05 2.95e+05]\n",
            " [0.00e+00 0.00e+00 1.00e+00 8.64e+04 1.54e+05 0.00e+00]\n",
            " [1.00e+00 0.00e+00 0.00e+00 7.63e+04 1.14e+05 2.99e+05]\n",
            " [0.00e+00 0.00e+00 1.00e+00 7.84e+04 1.54e+05 3.00e+05]\n",
            " [0.00e+00 1.00e+00 0.00e+00 7.40e+04 1.23e+05 3.03e+05]\n",
            " [0.00e+00 1.00e+00 0.00e+00 6.75e+04 1.06e+05 3.05e+05]\n",
            " [0.00e+00 0.00e+00 1.00e+00 7.70e+04 9.93e+04 1.41e+05]\n",
            " [1.00e+00 0.00e+00 0.00e+00 6.47e+04 1.40e+05 1.38e+05]\n",
            " [0.00e+00 1.00e+00 0.00e+00 7.53e+04 1.44e+05 1.34e+05]\n",
            " [0.00e+00 0.00e+00 1.00e+00 7.21e+04 1.28e+05 3.53e+05]\n",
            " [0.00e+00 1.00e+00 0.00e+00 6.61e+04 1.83e+05 1.18e+05]\n",
            " [0.00e+00 0.00e+00 1.00e+00 6.56e+04 1.53e+05 1.07e+05]\n",
            " [0.00e+00 1.00e+00 0.00e+00 6.20e+04 1.16e+05 9.11e+04]\n",
            " [0.00e+00 0.00e+00 1.00e+00 6.11e+04 1.53e+05 8.82e+04]\n",
            " [1.00e+00 0.00e+00 0.00e+00 6.34e+04 1.29e+05 4.61e+04]\n",
            " [0.00e+00 1.00e+00 0.00e+00 5.55e+04 1.03e+05 2.15e+05]\n",
            " [1.00e+00 0.00e+00 0.00e+00 4.64e+04 1.58e+05 2.11e+05]\n",
            " [0.00e+00 0.00e+00 1.00e+00 4.60e+04 8.50e+04 2.06e+05]\n",
            " [0.00e+00 1.00e+00 0.00e+00 2.87e+04 1.27e+05 2.01e+05]\n",
            " [1.00e+00 0.00e+00 0.00e+00 4.41e+04 5.13e+04 1.97e+05]\n",
            " [0.00e+00 0.00e+00 1.00e+00 2.02e+04 6.59e+04 1.85e+05]\n",
            " [1.00e+00 0.00e+00 0.00e+00 3.86e+04 8.30e+04 1.75e+05]\n",
            " [1.00e+00 0.00e+00 0.00e+00 2.88e+04 1.19e+05 1.73e+05]\n",
            " [0.00e+00 1.00e+00 0.00e+00 2.79e+04 8.47e+04 1.64e+05]\n",
            " [1.00e+00 0.00e+00 0.00e+00 2.36e+04 9.62e+04 1.48e+05]\n",
            " [0.00e+00 0.00e+00 1.00e+00 1.55e+04 1.27e+05 3.55e+04]\n",
            " [1.00e+00 0.00e+00 0.00e+00 2.22e+04 1.55e+05 2.83e+04]\n",
            " [0.00e+00 0.00e+00 1.00e+00 1.00e+03 1.24e+05 1.90e+03]\n",
            " [0.00e+00 1.00e+00 0.00e+00 1.32e+03 1.16e+05 2.97e+05]\n",
            " [1.00e+00 0.00e+00 0.00e+00 0.00e+00 1.35e+05 0.00e+00]\n",
            " [0.00e+00 0.00e+00 1.00e+00 5.42e+02 5.17e+04 0.00e+00]\n",
            " [1.00e+00 0.00e+00 0.00e+00 0.00e+00 1.17e+05 4.52e+04]]\n"
          ],
          "name": "stdout"
        }
      ]
    },
    {
      "cell_type": "markdown",
      "metadata": {
        "id": "WemVnqgeA70k",
        "colab_type": "text"
      },
      "source": [
        "## Splitting the dataset into the Training set and Test set"
      ]
    },
    {
      "cell_type": "code",
      "metadata": {
        "id": "NFfeS7EJx7Vh",
        "colab_type": "code",
        "outputId": "fab33c31-5e53-45cf-b118-5ed27820358f",
        "colab": {
          "base_uri": "https://localhost:8080/",
          "height": 204
        }
      },
      "source": [
        "#using the model selection tool from scikit learn to split the dataset. \n",
        "\n",
        "from sklearn.model_selection import train_test_split\n",
        "x_train, x_test, y_train, y_test = train_test_split(X, Y, test_size = 0.2, random_state = 0)\n",
        "\n",
        "#In single/multiple linear regression feature scaling is not required since coefficients are present.\n",
        "#If you have faced any problem in understanding the code till now, please view \n",
        "#the notes in the Data Preprocessing and Simple Linear Regression notebooks.\n",
        "print(y_test)"
      ],
      "execution_count": 45,
      "outputs": [
        {
          "output_type": "stream",
          "text": [
            "28    103282.38\n",
            "11    144259.40\n",
            "10    146121.95\n",
            "41     77798.83\n",
            "2     191050.39\n",
            "27    105008.31\n",
            "38     81229.06\n",
            "31     97483.56\n",
            "22    110352.25\n",
            "4     166187.94\n",
            "Name: Profit, dtype: float64\n"
          ],
          "name": "stdout"
        }
      ]
    },
    {
      "cell_type": "markdown",
      "metadata": {
        "id": "k-McZVsQBINc",
        "colab_type": "text"
      },
      "source": [
        "## Training the Multiple Linear Regression model on the Training set"
      ]
    },
    {
      "cell_type": "code",
      "metadata": {
        "id": "bPwU1K4pyxf-",
        "colab_type": "code",
        "outputId": "2ffa1711-7778-40df-d1eb-ca504bc96eb6",
        "colab": {
          "base_uri": "https://localhost:8080/",
          "height": 34
        }
      },
      "source": [
        "#The LinearRegression class is perfect for both simple and multiple linear regression models.\n",
        "#The class automatically selects the columns (features) which have the lowest p values\n",
        "#and are the most significant for our model. It also recognizes dummy variables thus avoiding\n",
        "#the dummy variable trap.\n",
        "\n",
        "from sklearn.linear_model import LinearRegression\n",
        "regressor = LinearRegression()\n",
        "regressor.fit(x_train, y_train)"
      ],
      "execution_count": 0,
      "outputs": [
        {
          "output_type": "execute_result",
          "data": {
            "text/plain": [
              "LinearRegression(copy_X=True, fit_intercept=True, n_jobs=None, normalize=False)"
            ]
          },
          "metadata": {
            "tags": []
          },
          "execution_count": 30
        }
      ]
    },
    {
      "cell_type": "markdown",
      "metadata": {
        "id": "xNkXL1YQBiBT",
        "colab_type": "text"
      },
      "source": [
        "## Predicting the Test set results"
      ]
    },
    {
      "cell_type": "code",
      "metadata": {
        "id": "EtvuHtqv1rks",
        "colab_type": "code",
        "outputId": "413121e4-e12c-4e2c-de14-074b4763f75f",
        "colab": {
          "base_uri": "https://localhost:8080/",
          "height": 187
        }
      },
      "source": [
        "#Predicting the profit values for the features in the test set (x_test)\n",
        "y_predicted = regressor.predict(x_test)\n",
        "#this is to display all numerical values within 2 decimal places\n",
        "np.set_printoptions(precision = 2) \n",
        "#The purpose of this line is to observe predicted values (left column) and real values (right column)\n",
        "#firstly, predicted and real value vector of profit in the test set are reshaped into a signle column\n",
        "#They are then concatenated to view them side by side\n",
        "#IMPORTANT NOTE: not writing values in 'y_test.values.reshape' will result in an error since y_test is\n",
        "#a series\n",
        "print(np.concatenate((y_predicted.reshape(len(y_predicted),1), y_test.values.reshape(len(y_test),1)),1))"
      ],
      "execution_count": 62,
      "outputs": [
        {
          "output_type": "stream",
          "text": [
            "[[103015.2  103282.38]\n",
            " [132582.28 144259.4 ]\n",
            " [132447.74 146121.95]\n",
            " [ 71976.1   77798.83]\n",
            " [178537.48 191050.39]\n",
            " [116161.24 105008.31]\n",
            " [ 67851.69  81229.06]\n",
            " [ 98791.73  97483.56]\n",
            " [113969.44 110352.25]\n",
            " [167921.07 166187.94]]\n"
          ],
          "name": "stdout"
        }
      ]
    }
  ]
}