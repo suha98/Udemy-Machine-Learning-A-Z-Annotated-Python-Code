{
  "nbformat": 4,
  "nbformat_minor": 0,
  "metadata": {
    "colab": {
      "name": "Simple_Linear_Regression.ipynb",
      "provenance": []
    },
    "kernelspec": {
      "name": "python3",
      "display_name": "Python 3"
    }
  },
  "cells": [
    {
      "cell_type": "markdown",
      "metadata": {
        "id": "l_LulNCC8z96",
        "colab_type": "text"
      },
      "source": [
        "# Simple Linear Regression"
      ]
    },
    {
      "cell_type": "markdown",
      "metadata": {
        "id": "xpXdowrE9DxW",
        "colab_type": "text"
      },
      "source": [
        "## Importing the libraries"
      ]
    },
    {
      "cell_type": "code",
      "metadata": {
        "id": "-4JFAYo3vOaa",
        "colab_type": "code",
        "colab": {}
      },
      "source": [
        "#The purpose of this model is to be able to accurately predict the salary data in the test given the number of years of experience,\n",
        "#using a simple linear regression machine learning model. \n",
        "\n",
        "import numpy as np\n",
        "import matplotlib.pyplot as plt\n",
        "import pandas as pd"
      ],
      "execution_count": 0,
      "outputs": []
    },
    {
      "cell_type": "markdown",
      "metadata": {
        "id": "6JhpWJi59J1p",
        "colab_type": "text"
      },
      "source": [
        "## Importing the dataset"
      ]
    },
    {
      "cell_type": "code",
      "metadata": {
        "id": "07QjmA1FwMHw",
        "colab_type": "code",
        "colab": {}
      },
      "source": [
        "dataset = pd.read_csv('Salary_Data.csv')\n",
        "X = dataset.iloc[:, :-1] #matrix of features; do not use [:, 0] here because it will create a 1D array instead of a 2D array.\n",
        "Y = dataset.iloc[:, -1] #vector of dependent values\n"
      ],
      "execution_count": 0,
      "outputs": []
    },
    {
      "cell_type": "markdown",
      "metadata": {
        "id": "AyhQaTwP9RzG",
        "colab_type": "text"
      },
      "source": [
        "## Splitting the dataset into the Training set and Test set"
      ]
    },
    {
      "cell_type": "code",
      "metadata": {
        "id": "Iy2YPM9NxMaD",
        "colab_type": "code",
        "colab": {}
      },
      "source": [
        "from sklearn.model_selection import train_test_split\n",
        "x_train, x_test, y_train, y_test = train_test_split(X, Y, test_size = 0.2, random_state = 0) #creating the training sets and the test sets.\n",
        "\n",
        "#For any questions in the code until now, please open the 'Data Pre-Processing Toolkit' folder and the journal there to see the detailed explanations."
      ],
      "execution_count": 0,
      "outputs": []
    },
    {
      "cell_type": "markdown",
      "metadata": {
        "id": "ZijQwFMQ9itx",
        "colab_type": "text"
      },
      "source": [
        "## Training the Simple Linear Regression model on the Training set"
      ]
    },
    {
      "cell_type": "code",
      "metadata": {
        "id": "ckJhJs5oyIt_",
        "colab_type": "code",
        "colab": {
          "base_uri": "https://localhost:8080/",
          "height": 34
        },
        "outputId": "bfed87fa-780a-4fa2-c65a-396a1eff361c"
      },
      "source": [
        "#Training the machine learning model so that it can predict values in the test set.\n",
        "\n",
        "#import linear regression class from the scikit learn library.\n",
        "#create an object of the class giving it the name 'regressor'.\n",
        "#fit is a method in the LinearRegression class responsible for training the model.\n",
        "\n",
        "from sklearn.linear_model import LinearRegression\n",
        "regressor = LinearRegression()\n",
        "regressor.fit(x_train, y_train)"
      ],
      "execution_count": 61,
      "outputs": [
        {
          "output_type": "execute_result",
          "data": {
            "text/plain": [
              "LinearRegression(copy_X=True, fit_intercept=True, n_jobs=None, normalize=False)"
            ]
          },
          "metadata": {
            "tags": []
          },
          "execution_count": 61
        }
      ]
    },
    {
      "cell_type": "markdown",
      "metadata": {
        "id": "wa2T1Lq89o5H",
        "colab_type": "text"
      },
      "source": [
        "## Predicting the Test set results\n"
      ]
    },
    {
      "cell_type": "code",
      "metadata": {
        "id": "6RK7rJWv8btn",
        "colab_type": "code",
        "colab": {}
      },
      "source": [
        "#The trained model is now being used to make predictions on the test set feature matrix\n",
        "#y_predicted is a vector of predicted salaries.\n",
        "y_predicted = regressor.predict(x_test)"
      ],
      "execution_count": 0,
      "outputs": []
    },
    {
      "cell_type": "markdown",
      "metadata": {
        "id": "-zSoMZ-P9v8t",
        "colab_type": "text"
      },
      "source": [
        "## Visualising the Training set results"
      ]
    },
    {
      "cell_type": "code",
      "metadata": {
        "id": "hLs-hIes-IER",
        "colab_type": "code",
        "colab": {
          "base_uri": "https://localhost:8080/",
          "height": 295
        },
        "outputId": "236c1fac-b58a-46af-aff0-692d465a253a"
      },
      "source": [
        "#Visualizing the training set coordinates (x_train and y_train) as a scatter plot with green colored points\n",
        "plt.scatter(x_train, y_train, color = 'green')\n",
        "\n",
        "#Plotting the regression line which predicts salaries. Here, x coordinates are experience and y coordinates are predicted\n",
        "#values of salary for x_train (experience array)\n",
        "plt.plot(x_train, regressor.predict(x_train))\n",
        "plt.title('Salary vs Experience - Training Set')\n",
        "plt.xlabel('Years of Experience')\n",
        "plt.ylabel('Salary')\n",
        "plt.show()"
      ],
      "execution_count": 63,
      "outputs": [
        {
          "output_type": "display_data",
          "data": {
            "image/png": "[encoded data removed]",
            "text/plain": [
              "<Figure size 432x288 with 1 Axes>"
            ]
          },
          "metadata": {
            "tags": [],
            "needs_background": "light"
          }
        }
      ]
    },
    {
      "cell_type": "markdown",
      "metadata": {
        "id": "EUX1Vhsv97ZT",
        "colab_type": "text"
      },
      "source": [
        "## Visualising the Test set results"
      ]
    },
    {
      "cell_type": "code",
      "metadata": {
        "id": "-yiMUcZz_ruk",
        "colab_type": "code",
        "colab": {
          "base_uri": "https://localhost:8080/",
          "height": 295
        },
        "outputId": "43eee13f-b86b-4d36-b6e4-68ca728c95d4"
      },
      "source": [
        "#Visualizing the test set coordinates (x_test and y_test) as a scatter plot with green colored points\n",
        "plt.scatter(x_test, y_test, color = 'green')\n",
        "\n",
        "#Here, we plot the regression line with x_test coordinates as experience and y_predicted as predicted salary values.\n",
        "#NOTE: plt.plot(x_test, y_predicted, color = 'blue') using this would generate the same regression line since the value of the \n",
        "#mean and y-intercept of the line would remain the same.\n",
        "\n",
        "plt.plot(x_train, regressor.predict(x_train), color = 'blue') \n",
        "plt.title('Salary vs Experience - Test Set')\n",
        "plt.xlabel('Years of Experience')\n",
        "plt.ylabel('Salary')\n",
        "plt.show()"
      ],
      "execution_count": 67,
      "outputs": [
        {
          "output_type": "display_data",
          "data": {
            "image/png": "[encoded data removed]",
            "text/plain": [
              "<Figure size 432x288 with 1 Axes>"
            ]
          },
          "metadata": {
            "tags": [],
            "needs_background": "light"
          }
        }
      ]
    }
  ]
}